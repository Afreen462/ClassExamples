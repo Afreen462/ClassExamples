import torch

weight = torch.Tensor([0.125])
weight.requires_grad = True
input = torch.Tensor([4])

for i in range(25):
  output = weight * input
  cost = (output - 1) ** 2
  cost.backward() # automatic backpropogation using a tree with a weight and input at the top and branches going down into the ouput, then another
  # level that has cost
  weight = weight.detach().clone() - 0.01 * weight.grad # the .01 is the learning rate
  weight.requires_grad = True
  print("output is ", output.item())
  print("weight is ", weight.item())


# weight.grad
